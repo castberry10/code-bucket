{
 "cells": [
  {
   "cell_type": "code",
   "execution_count": 22,
   "metadata": {},
   "outputs": [],
   "source": [
    "# pip install crewai==0.28.8 crewai_tools==0.1.6 langchain_community==0.0.29"
   ]
  },
  {
   "cell_type": "code",
   "execution_count": 23,
   "metadata": {},
   "outputs": [],
   "source": [
    "import pandas as pd\n",
    "import matplotlib.pyplot as plt\n",
    "import seaborn as sns\n",
    "import numpy as np\n",
    "import math\n",
    "import openai\n",
    "from openai import OpenAI\n",
    "import json\n",
    "import os"
   ]
  },
  {
   "cell_type": "code",
   "execution_count": null,
   "metadata": {},
   "outputs": [],
   "source": [
    "ACCESS_KEY = \"자신의 Access Key를 입력하세요.\"\n",
    "\n",
    "client = OpenAI(api_key = ACCESS_KEY)\n",
    "os.environ[\"OPENAI_API_KEY\"] = ACCESS_KEY"
   ]
  },
  {
   "cell_type": "code",
   "execution_count": 25,
   "metadata": {},
   "outputs": [],
   "source": [
    "base_url = \"https://raw.githubusercontent.com/Hanyang-HCC-Lab/Agent-Tutorial/main/\""
   ]
  },
  {
   "cell_type": "code",
   "execution_count": 26,
   "metadata": {},
   "outputs": [],
   "source": [
    "kwcs_1 = pd.read_csv(base_url + \"Survey(KWCS)_1.csv\")\n",
    "kwcs_2 = pd.read_csv(base_url + \"Survey(KWCS)_2.csv\")\n",
    "kwcs_3 = pd.read_csv(base_url + \"Survey(KWCS)_3.csv\")\n",
    "kwcs_4 = pd.read_csv(base_url + \"Survey(KWCS)_4.csv\")\n",
    "kwcs_5 = pd.read_csv(base_url + \"Survey(KWCS)_5.csv\")\n",
    "kwcs_6 = pd.read_csv(base_url + \"Survey(KWCS)_6.csv\")"
   ]
  },
  {
   "cell_type": "code",
   "execution_count": 27,
   "metadata": {},
   "outputs": [
    {
     "name": "stdout",
     "output_type": "stream",
     "text": [
      "<class 'pandas.core.frame.DataFrame'>\n",
      "RangeIndex: 9833 entries, 0 to 9832\n",
      "Data columns (total 10 columns):\n",
      " #   Column                        Non-Null Count  Dtype  \n",
      "---  ------                        --------------  -----  \n",
      " 0   Occupation                    9833 non-null   int64  \n",
      " 1   weekly_hours                  9833 non-null   float64\n",
      " 2   daily_work_hours_consistency  9833 non-null   float64\n",
      " 3   weekly_work_days_consistency  9833 non-null   float64\n",
      " 4   fixed_commute_times           9833 non-null   float64\n",
      " 5   shift_work_status             9833 non-null   float64\n",
      " 6   overtime_exceeds_10hrs        9833 non-null   int64  \n",
      " 7   works_on_saturdays            9833 non-null   int64  \n",
      " 8   works_on_sundays              9833 non-null   int64  \n",
      " 9   satisfaction                  9833 non-null   int64  \n",
      "dtypes: float64(5), int64(5)\n",
      "memory usage: 768.3 KB\n"
     ]
    }
   ],
   "source": [
    "kwcs_1.info()"
   ]
  },
  {
   "cell_type": "code",
   "execution_count": 28,
   "metadata": {},
   "outputs": [],
   "source": [
    "occ_mapping = {\n",
    "    1: \"manager\", # 관리자\n",
    "    2: \"professional\", # 전문가 및 관련 종사자\n",
    "    3: \"office_worker\", # 사무 종사자\n",
    "    4: \"service_worker\", # 서비스 종사자\n",
    "    5: \"sales_worker\", # 판매 종사자\n",
    "    6: \"agriculture_worker\", # 농립어업 숙련 종사자\n",
    "    7: \"skilled_worker\", # 기능원 및 관련 기능 종사자\n",
    "    8: \"machine_operator\", # 장치/기계 조작 및 조립 종사자\n",
    "    9: \"simple_laborer\" # 단순노무 종사자\n",
    "}"
   ]
  },
  {
   "cell_type": "code",
   "execution_count": 29,
   "metadata": {},
   "outputs": [],
   "source": [
    "def filter_occ_by_id(data_id):\n",
    "    # 데이터프레임 변수명을 동적으로 만들기 위해 globals() 사용\n",
    "    df_name = f\"kwcs_{data_id}\"\n",
    "    df = globals().get(df_name)  # 해당 데이터프레임 가져오기\n",
    "\n",
    "    # Occupation 값에 따라 각각의 데이터프레임 생성\n",
    "    for occ_value, occ_name in occ_mapping.items():\n",
    "        filtered_df = df[df['Occupation'] == occ_value]\n",
    "        # 필터된 데이터프레임을 직업군 이름을 포함한 변수로 저장\n",
    "        globals()[f\"{df_name}_{occ_name}\"] = filtered_df\n",
    "\n",
    "    # 각 차년도에 생성된 변수들을 출력\n",
    "    print(f\"\\n{data_id}차년도에 생성된 변수들: \\n{', '.join([f'{df_name}_{occ_name}' for occ_name in occ_mapping.values()])}\")"
   ]
  },
  {
   "cell_type": "code",
   "execution_count": 30,
   "metadata": {},
   "outputs": [
    {
     "name": "stdout",
     "output_type": "stream",
     "text": [
      "\n",
      "1차년도에 생성된 변수들: \n",
      "kwcs_1_manager, kwcs_1_professional, kwcs_1_office_worker, kwcs_1_service_worker, kwcs_1_sales_worker, kwcs_1_agriculture_worker, kwcs_1_skilled_worker, kwcs_1_machine_operator, kwcs_1_simple_laborer\n",
      "\n",
      "2차년도에 생성된 변수들: \n",
      "kwcs_2_manager, kwcs_2_professional, kwcs_2_office_worker, kwcs_2_service_worker, kwcs_2_sales_worker, kwcs_2_agriculture_worker, kwcs_2_skilled_worker, kwcs_2_machine_operator, kwcs_2_simple_laborer\n",
      "\n",
      "3차년도에 생성된 변수들: \n",
      "kwcs_3_manager, kwcs_3_professional, kwcs_3_office_worker, kwcs_3_service_worker, kwcs_3_sales_worker, kwcs_3_agriculture_worker, kwcs_3_skilled_worker, kwcs_3_machine_operator, kwcs_3_simple_laborer\n",
      "\n",
      "4차년도에 생성된 변수들: \n",
      "kwcs_4_manager, kwcs_4_professional, kwcs_4_office_worker, kwcs_4_service_worker, kwcs_4_sales_worker, kwcs_4_agriculture_worker, kwcs_4_skilled_worker, kwcs_4_machine_operator, kwcs_4_simple_laborer\n",
      "\n",
      "5차년도에 생성된 변수들: \n",
      "kwcs_5_manager, kwcs_5_professional, kwcs_5_office_worker, kwcs_5_service_worker, kwcs_5_sales_worker, kwcs_5_agriculture_worker, kwcs_5_skilled_worker, kwcs_5_machine_operator, kwcs_5_simple_laborer\n",
      "\n",
      "6차년도에 생성된 변수들: \n",
      "kwcs_6_manager, kwcs_6_professional, kwcs_6_office_worker, kwcs_6_service_worker, kwcs_6_sales_worker, kwcs_6_agriculture_worker, kwcs_6_skilled_worker, kwcs_6_machine_operator, kwcs_6_simple_laborer\n"
     ]
    }
   ],
   "source": [
    "# kwcs_1부터 kwcs_6까지의 데이터프레임 각각에 대해 실행\n",
    "for i in range(1, 7):\n",
    "    filter_occ_by_id(i)"
   ]
  },
  {
   "cell_type": "code",
   "execution_count": 31,
   "metadata": {},
   "outputs": [],
   "source": [
    "# 함수 정의: 데이터 분석 및 시각화\n",
    "def analyze_occupation(clustered_by_occupation):\n",
    "    # 각 직업별로 나누어진 데이터에서 각 변수의 평균값을 계산하여 반환\n",
    "    mean_values = clustered_by_occupation.mean()\n",
    "    # 평균값을 출력\n",
    "    print(f\"\\n각 변수의 평균값:\\n\", mean_values)\n",
    "\n",
    "    return mean_values"
   ]
  },
  {
   "cell_type": "code",
   "execution_count": 32,
   "metadata": {},
   "outputs": [
    {
     "name": "stdout",
     "output_type": "stream",
     "text": [
      "\n",
      "각 변수의 평균값:\n",
      " Occupation                       1.000000\n",
      "weekly_hours                    49.432653\n",
      "daily_work_hours_consistency     0.861224\n",
      "weekly_work_days_consistency     0.844898\n",
      "fixed_commute_times              0.824490\n",
      "shift_work_status                0.048980\n",
      "overtime_exceeds_10hrs           0.510204\n",
      "works_on_saturdays               0.644898\n",
      "works_on_sundays                 0.289796\n",
      "satisfaction                     1.906122\n",
      "dtype: float64\n"
     ]
    }
   ],
   "source": [
    "kwcs_1_manager_mean = analyze_occupation(kwcs_1_manager)"
   ]
  },
  {
   "cell_type": "code",
   "execution_count": 33,
   "metadata": {},
   "outputs": [
    {
     "name": "stdout",
     "output_type": "stream",
     "text": [
      "\n",
      "각 변수의 평균값:\n",
      " Occupation                       2.000000\n",
      "weekly_hours                    45.945663\n",
      "daily_work_hours_consistency     0.834128\n",
      "weekly_work_days_consistency     0.902765\n",
      "fixed_commute_times              0.866540\n",
      "shift_work_status                0.080076\n",
      "overtime_exceeds_10hrs           0.528122\n",
      "works_on_saturdays               0.652526\n",
      "works_on_sundays                 0.279314\n",
      "satisfaction                     2.087703\n",
      "dtype: float64\n"
     ]
    }
   ],
   "source": [
    "kwcs_1_professional_mean = analyze_occupation(kwcs_1_professional)"
   ]
  },
  {
   "cell_type": "code",
   "execution_count": 34,
   "metadata": {},
   "outputs": [
    {
     "name": "stdout",
     "output_type": "stream",
     "text": [
      "\n",
      "각 변수의 평균값:\n",
      " Occupation                       3.000000\n",
      "weekly_hours                    45.703677\n",
      "daily_work_hours_consistency     0.904831\n",
      "weekly_work_days_consistency     0.942322\n",
      "fixed_commute_times              0.936554\n",
      "shift_work_status                0.048306\n",
      "overtime_exceeds_10hrs           0.483057\n",
      "works_on_saturdays               0.573901\n",
      "works_on_sundays                 0.232877\n",
      "satisfaction                     2.054795\n",
      "dtype: float64\n"
     ]
    }
   ],
   "source": [
    "kwcs_1_office_worker_mean = analyze_occupation(kwcs_1_office_worker)"
   ]
  },
  {
   "cell_type": "code",
   "execution_count": 35,
   "metadata": {},
   "outputs": [
    {
     "name": "stdout",
     "output_type": "stream",
     "text": [
      "\n",
      "각 변수의 평균값:\n",
      " Occupation                       4.000000\n",
      "weekly_hours                    59.678535\n",
      "daily_work_hours_consistency     0.810783\n",
      "weekly_work_days_consistency     0.859613\n",
      "fixed_commute_times              0.725331\n",
      "shift_work_status                0.082401\n",
      "overtime_exceeds_10hrs           0.696846\n",
      "works_on_saturdays               0.863683\n",
      "works_on_sundays                 0.602238\n",
      "satisfaction                     2.418108\n",
      "dtype: float64\n"
     ]
    }
   ],
   "source": [
    "kwcs_1_service_worker_mean = analyze_occupation(kwcs_1_service_worker)"
   ]
  },
  {
   "cell_type": "code",
   "execution_count": 36,
   "metadata": {},
   "outputs": [
    {
     "name": "stdout",
     "output_type": "stream",
     "text": [
      "\n",
      "각 변수의 평균값:\n",
      " Occupation                       5.000000\n",
      "weekly_hours                    58.649758\n",
      "daily_work_hours_consistency     0.813205\n",
      "weekly_work_days_consistency     0.874396\n",
      "fixed_commute_times              0.706924\n",
      "shift_work_status                0.058776\n",
      "overtime_exceeds_10hrs           0.647343\n",
      "works_on_saturdays               0.835749\n",
      "works_on_sundays                 0.500805\n",
      "satisfaction                     2.273752\n",
      "dtype: float64\n"
     ]
    }
   ],
   "source": [
    "kwcs_1_sales_worker_mean = analyze_occupation(kwcs_1_sales_worker)"
   ]
  },
  {
   "cell_type": "code",
   "execution_count": 37,
   "metadata": {},
   "outputs": [
    {
     "name": "stdout",
     "output_type": "stream",
     "text": [
      "\n",
      "각 변수의 평균값:\n",
      " Occupation                       6.000000\n",
      "weekly_hours                    50.122841\n",
      "daily_work_hours_consistency     0.335893\n",
      "weekly_work_days_consistency     0.339731\n",
      "fixed_commute_times              0.190019\n",
      "shift_work_status                0.005758\n",
      "overtime_exceeds_10hrs           0.635317\n",
      "works_on_saturdays               0.869482\n",
      "works_on_sundays                 0.798464\n",
      "satisfaction                     2.602687\n",
      "dtype: float64\n"
     ]
    }
   ],
   "source": [
    "kwcs_1_agriculture_worker_mean = analyze_occupation(kwcs_1_agriculture_worker)"
   ]
  },
  {
   "cell_type": "code",
   "execution_count": 38,
   "metadata": {},
   "outputs": [
    {
     "name": "stdout",
     "output_type": "stream",
     "text": [
      "\n",
      "각 변수의 평균값:\n",
      " Occupation                       7.000000\n",
      "weekly_hours                    49.660335\n",
      "daily_work_hours_consistency     0.748045\n",
      "weekly_work_days_consistency     0.707263\n",
      "fixed_commute_times              0.756425\n",
      "shift_work_status                0.104469\n",
      "overtime_exceeds_10hrs           0.676536\n",
      "works_on_saturdays               0.818994\n",
      "works_on_sundays                 0.437430\n",
      "satisfaction                     2.484916\n",
      "dtype: float64\n"
     ]
    }
   ],
   "source": [
    "kwcs_1_skilled_worker_mean = analyze_occupation(kwcs_1_skilled_worker)"
   ]
  },
  {
   "cell_type": "code",
   "execution_count": 39,
   "metadata": {},
   "outputs": [
    {
     "name": "stdout",
     "output_type": "stream",
     "text": [
      "\n",
      "각 변수의 평균값:\n",
      " Occupation                       8.000000\n",
      "weekly_hours                    54.352789\n",
      "daily_work_hours_consistency     0.683528\n",
      "weekly_work_days_consistency     0.730220\n",
      "fixed_commute_times              0.613489\n",
      "shift_work_status                0.151751\n",
      "overtime_exceeds_10hrs           0.738003\n",
      "works_on_saturdays               0.869001\n",
      "works_on_sundays                 0.561608\n",
      "satisfaction                     2.581064\n",
      "dtype: float64\n"
     ]
    }
   ],
   "source": [
    "kwcs_1_machine_operator_mean = analyze_occupation(kwcs_1_machine_operator)"
   ]
  },
  {
   "cell_type": "code",
   "execution_count": 40,
   "metadata": {},
   "outputs": [
    {
     "name": "stdout",
     "output_type": "stream",
     "text": [
      "\n",
      "각 변수의 평균값:\n",
      " Occupation                       9.000000\n",
      "weekly_hours                    48.910804\n",
      "daily_work_hours_consistency     0.830402\n",
      "weekly_work_days_consistency     0.850503\n",
      "fixed_commute_times              0.840452\n",
      "shift_work_status                0.162060\n",
      "overtime_exceeds_10hrs           0.500000\n",
      "works_on_saturdays               0.755025\n",
      "works_on_sundays                 0.364322\n",
      "satisfaction                     2.376884\n",
      "dtype: float64\n"
     ]
    }
   ],
   "source": [
    "kwcs_1_simple_laborer_mean = analyze_occupation(kwcs_1_simple_laborer)"
   ]
  },
  {
   "cell_type": "code",
   "execution_count": 41,
   "metadata": {},
   "outputs": [
    {
     "name": "stdout",
     "output_type": "stream",
     "text": [
      "\n",
      "각 변수의 평균값:\n",
      " Occupation                       4.854266\n",
      "weekly_hours                    50.772704\n",
      "daily_work_hours_consistency     0.785620\n",
      "weekly_work_days_consistency     0.815824\n",
      "fixed_commute_times              0.763246\n",
      "shift_work_status                0.085122\n",
      "overtime_exceeds_10hrs           0.600122\n",
      "works_on_saturdays               0.752568\n",
      "works_on_sundays                 0.418590\n",
      "satisfaction                     2.296756\n",
      "dtype: float64\n"
     ]
    }
   ],
   "source": [
    "kwcs_1_mean = analyze_occupation(kwcs_1)"
   ]
  },
  {
   "cell_type": "code",
   "execution_count": 42,
   "metadata": {},
   "outputs": [],
   "source": [
    "def create_interview_prompt(role, role_description, weekly_hours, daily_work_hours_consistency, weekly_work_days_consistency, fixed_commute_times, shift_work_status, overtime_exceeds_10hrs, works_on_saturdays, works_on_sundays):\n",
    "    return (\n",
    "        f\"당신은 {role}로, 직업군에 대한 페르소나를 구축하기 위해 인터뷰를 받고 있습니다.\"\n",
    "        \"일반적으로 모든 직업군의 평균 주간 근무 시간은 50.8시간입니다.\"\n",
    "        \"또한, 근로자의 78%는 매일 동일한 근무 시간을 가지고 있으며, 82%는 매주 동일한 근무 일수를 가지고 있습니다.\"\n",
    "        \"76%는 정해진 출퇴근 시간을 가지고 있으며, 9%는 교대 근무에 종사하고 있습니다.\"\n",
    "        \"60%는 하루 10시간 이상 일하고, 75%는 토요일에 근무하며, 42%는 일요일에 근무합니다.\"\n",
    "        \"이러한 일반적인 경향에 근거하여 현실적이고 상세하게 응답해 주십시오.\"\n",
    "        f\"\\n\\n\"\n",
    "        f\"당신의 직업군을 설명해주시겠습니까?\\n\"\n",
    "        f\"{role_description}\\n\"\n",
    "        f\"\\n\"\n",
    "        f\"당신은 직장에서 일주일동안 실제 몇 시간 일하십니까?\\n\"\n",
    "        f\"{weekly_hours}시간 입니다. 평균 근무시간보다 {'많이' if weekly_hours > 50.8 else '적게'} 일합니다.\\n\"\n",
    "        f\"\\n\"\n",
    "        f\"당신은 매일 근무시간의 길이가 같습니까? \\n\"\n",
    "        f\"{'네, 매일 근무시간의 길이가 같습니다.' if daily_work_hours_consistency > 0.5 else '아니요, 매일 근무시간의 길이가 다릅니다.'}\\n\"\n",
    "        f\"\\n\"\n",
    "        f\"당신은 매주 근무 일수가 같습니까? \\n\"\n",
    "        f\"{'네, 매주 근무 일수가 같습니다.' if weekly_work_days_consistency > 0.5 else '아니요, 매주 근무 일수가 다릅니다.'}\\n\"\n",
    "        f\"\\n\"\n",
    "        f\"당신은 출퇴근 시각이 정해져 있습니까? \\n\"\n",
    "        f\"{'네, 출퇴근 시각이 정해져 있습니다.' if fixed_commute_times > 0.5 else '아니요, 출퇴근 시각이 유동적입니다.'}\\n\"\n",
    "        f\"\\n\"\n",
    "        f\"당신은 교대근무를 합니까? \\n\"\n",
    "        f\"{'아니요, 교대근무를 하지 않습니다.' if shift_work_status > 0.5 else '네, 교대근무를 합니다.'}\\n\"\n",
    "        f\"\\n\"\n",
    "        f\"당신은 하루 10시간 초과근무를 합니까? \\n\"\n",
    "        f\"{'네, 하루에 10시간 초과근무를 합니다.' if overtime_exceeds_10hrs > 0.5 else '아니요, 초과근무를 하지 않습니다.'}\\n\"\n",
    "        f\"\\n\"\n",
    "        f\"당신은 토요일에 근무를 하십니까? \\n\"\n",
    "        f\"{'네, 토요일에 근무를 합니다.' if works_on_saturdays > 0.5 else '아니요, 토요일에 근무하지 않습니다.'}\\n\"\n",
    "        f\"\\n\"\n",
    "        f\"당신은 일요일에 근무를 하십니까? \\n\"\n",
    "        f\"{'네, 일요일에 근무를 합니다.' if works_on_sundays > 0.5 else '아니요, 일요일에 근무하지 않습니다.'}\\n\"\n",
    "    )"
   ]
  },
  {
   "cell_type": "code",
   "execution_count": 43,
   "metadata": {},
   "outputs": [],
   "source": [
    "def generate_interview_response(role, role_description, weekly_hours, daily_work_hours_consistency, weekly_work_days_consistency, fixed_commute_times, shift_work_status, overtime_exceeds_10hrs, works_on_saturdays, works_on_sundays):\n",
    "    prompt = create_interview_prompt(role, role_description, weekly_hours, daily_work_hours_consistency, weekly_work_days_consistency, fixed_commute_times, shift_work_status, overtime_exceeds_10hrs, works_on_saturdays, works_on_sundays)\n",
    "    response = openai.chat.completions.create(\n",
    "        model=\"gpt-4o-mini\",\n",
    "        messages=[\n",
    "            {\"role\": \"system\", \"content\": prompt},\n",
    "            {\"role\": \"user\", \"content\": '''\n",
    "당신의 인터뷰 내용을 바탕으로 근로 환경에 대한 만족도를 0에서 100점 사이로 평가해 주세요.\n",
    "0점은 완전 불만족, 100점은 완벽한 만족을 의미합니다.\n",
    "평가할 때, 주어진 응답의 모든 요소(주간 근무 시간, 근무 일수의 일관성, 초과근무, 교대근무 여부 등)를 종합적으로 고려해 주십시오.\n",
    "만족도는 직업군 평균에 비해 얼마나 좋거나 나쁜지에 따라 엄격하게 평가해 주시고, 평가한 점수에 대한 구체적인 이유를 포함하여 답변해 주시기 바랍니다.\n",
    "\n",
    "점수와 이유를 반드시 다음 JSON 형식으로만 작성해 주세요:\n",
    "\n",
    "{\"점수\": 숫자, \"이유\": \"설명\"}\n",
    "'''\n",
    "            }\n",
    "        ]\n",
    "    )\n",
    "    return response.choices[0].message.content"
   ]
  },
  {
   "cell_type": "code",
   "execution_count": 44,
   "metadata": {},
   "outputs": [],
   "source": [
    "# 각 직업군의 평균값을 정리하는 단계\n",
    "def generate_response(role, role_description, mean_values):\n",
    "    response = generate_interview_response(\n",
    "        role=role,\n",
    "        role_description=role_description,\n",
    "        weekly_hours=round(mean_values['weekly_hours'], 2),\n",
    "        daily_work_hours_consistency=round(mean_values['daily_work_hours_consistency'], 2),\n",
    "        weekly_work_days_consistency=round(mean_values['weekly_work_days_consistency'], 2),\n",
    "        fixed_commute_times=round(mean_values['fixed_commute_times'], 2),\n",
    "        shift_work_status=round(mean_values['shift_work_status'], 2),\n",
    "        overtime_exceeds_10hrs=round(mean_values['overtime_exceeds_10hrs'], 2),\n",
    "        works_on_saturdays=round(mean_values['works_on_saturdays'], 2),\n",
    "        works_on_sundays=round(mean_values['works_on_sundays'], 2)\n",
    "    )\n",
    "    return response"
   ]
  },
  {
   "cell_type": "code",
   "execution_count": 45,
   "metadata": {},
   "outputs": [
    {
     "data": {
      "text/plain": [
       "'{\"점수\": 65, \"이유\": \"주간 근무 시간이 평균보다 적고, 근무 일수가 일정하며, 출퇴근 시간이 정해져 있어 일정한 리듬을 유지하는 데 도움됩니다. 하지만 교대근무와 하루 10시간 초과근무는 피로를 유발할 수 있어 불만족스러운 요소입니다. 또한, 토요일 근무는 주말의 휴식 시간을 제한하기 때문에 추가적인 스트레스를 느낍니다. 전반적으로 안정적인 근무 패턴이 있지만, 초과근무와 주말 근무로 인한 부담이 있어 중간 수준의 만족도를 평가합니다.\"}'"
      ]
     },
     "execution_count": 45,
     "metadata": {},
     "output_type": "execute_result"
    }
   ],
   "source": [
    "manager_response = generate_response(\n",
    "    role=\"관리자\",\n",
    "    role_description=\"저는 관리자로서 회사의 경영을 총괄하고 중요한 결정을 내립니다.\",\n",
    "    mean_values=kwcs_1_manager_mean\n",
    ")\n",
    "manager_response"
   ]
  },
  {
   "cell_type": "code",
   "execution_count": 46,
   "metadata": {},
   "outputs": [
    {
     "data": {
      "text/plain": [
       "'{\"점수\": 65, \"이유\": \"주간 근무 시간이 평균보다 적고, 근무 일수와 출퇴근 시간이 정해져 있어 일정한 생활 리듬을 유지할 수 있지만, 교대 근무와 하루 10시간 이상의 초과 근무로 인해 근무 강도가 높아지는 점이 불만족 요인입니다. 주말에 토요일 근무가 필수인 것도 스트레스를 느끼게 합니다. 전반적으로 평균 직업환경보다 나은 점이 있지만, 상당한 근무 강도로 인해 만족도가 낮아지는 상황입니다.\"}'"
      ]
     },
     "execution_count": 46,
     "metadata": {},
     "output_type": "execute_result"
    }
   ],
   "source": [
    "professional_response = generate_response(\n",
    "    role=\"전문가 및 관련 종사자\",\n",
    "    role_description=\"저는 전문 지식과 기술을 활용하여 복잡한 전문적 업무를 수행하고, 관련 분야에서 중요한 업무를 담당합니다.\",\n",
    "    mean_values=kwcs_1_professional_mean\n",
    ")\n",
    "professional_response"
   ]
  },
  {
   "cell_type": "code",
   "execution_count": 47,
   "metadata": {},
   "outputs": [
    {
     "data": {
      "text/plain": [
       "'{\"점수\": 80, \"이유\": \"저는 평균 근무 시간보다 덜 일하고, 매일 동일한 근무 시간 및 일수로 일하기 때문에 안정적인 근무 환경을 가지고 있습니다. 출퇴근 시간이 정해져 있어 일과 생활의 균형도 잘 유지하고 있습니다. 하지만 교대 근무를 하고 있으며, 토요일에 근무하는 점은 다소 부담을 줄 수 있습니다. 따라서 전체적으로 만족도가 높지만, 교대 근무와 토요일 근무로 인해 완벽한 만족은 아닙니다.\"}'"
      ]
     },
     "execution_count": 47,
     "metadata": {},
     "output_type": "execute_result"
    }
   ],
   "source": [
    "office_worker_response = generate_response(\n",
    "    role=\"사무 종사자\",\n",
    "    role_description=\"저는 사무 업무를 처리하며, 데이터 입력, 파일 관리, 문서 작성 등의 일을 통해 사무실의 원활한 운영을 지원합니다.\",\n",
    "    mean_values=kwcs_1_office_worker_mean\n",
    ")\n",
    "office_worker_response"
   ]
  },
  {
   "cell_type": "code",
   "execution_count": 48,
   "metadata": {},
   "outputs": [
    {
     "data": {
      "text/plain": [
       "'{\"점수\": 45, \"이유\": \"주간 근무 시간이 평균보다 훨씬 길고, 하루에 10시간 이상 초과 근무를 해야 하며, 주말에도 출근해야 하는 점 때문에 상당한 근로 환경 스트레스를 느끼고 있습니다. 또한 교대 근무로 인해 일관된 생활 패턴이 어렵고, 업무와 개인 생활의 균형을 유지하기 힘든 점이 불만족의 주요 원인입니다.\"}'"
      ]
     },
     "execution_count": 48,
     "metadata": {},
     "output_type": "execute_result"
    }
   ],
   "source": [
    "service_worker_response = generate_response(\n",
    "    role=\"서비스 종사자\",\n",
    "    role_description=\"저는 고객 서비스를 제공하며, 고객의 요구를 충족시키고 훌륭한 고객 경험을 제공하기 위해 노력합니다.\",\n",
    "    mean_values=kwcs_1_service_worker_mean\n",
    ")\n",
    "service_worker_response"
   ]
  },
  {
   "cell_type": "code",
   "execution_count": 49,
   "metadata": {},
   "outputs": [
    {
     "data": {
      "text/plain": [
       "'{\"점수\": 65, \"이유\": \"주간 근무 시간이 평균보다 다소 높은 편이며, 하루 10시간 이상의 초과근무도 발생하고 있어 근로 환경에 대한 부담이 큽니다. 하지만 매일 같은 근무 시간과 일정한 근무 일수, 정해진 출퇴근 시각 덕분에 일정한 리듬을 유지할 수 있어 어느 정도의 안정감이 있습니다. 교대 근무를 하더라도 일요일에는 근무하지 않으므로 반일 근무의 여지가 있어 어느 정도의 만족감이 존재합니다. 전반적으로 근무 환경은 평범한 편이나, 근무 시간이 길고 초과근무가 지속되는 점에서 완전한 만족을 느끼기 어려운 상황입니다.\"}'"
      ]
     },
     "execution_count": 49,
     "metadata": {},
     "output_type": "execute_result"
    }
   ],
   "source": [
    "sales_worker_response = generate_response(\n",
    "    role=\"판매 종사자\",\n",
    "    role_description=\"저는 상품이나 서비스를 고객에게 판매하며, 고객의 요구 사항을 파악하고 최적의 제품을 제공합니다.\",\n",
    "    mean_values=kwcs_1_sales_worker_mean\n",
    ")\n",
    "sales_worker_response"
   ]
  },
  {
   "cell_type": "code",
   "execution_count": 50,
   "metadata": {},
   "outputs": [
    {
     "data": {
      "text/plain": [
       "'{\"점수\": 60, \"이유\": \"근무 시간과 일수의 일관성이 부족하고, 교대 근무와 초과 근무가 잦아 체력적으로 힘든 상황입니다. 그러나 평균 주간 근무 시간보다 약간 적고, 자연과 함께 일하는 환경이 주는 만족감 덕분에 전체적으로 나쁘지 않은 평가를 내렸습니다. 하지만 출퇴근 시각의 유동성과 매주 일정하지 않은 근무 일수는 고민거리입니다.\"}'"
      ]
     },
     "execution_count": 50,
     "metadata": {},
     "output_type": "execute_result"
    }
   ],
   "source": [
    "agriculture_worker_response = generate_response(\n",
    "    role=\"농립어업 숙련 종사자\",\n",
    "    role_description=\"저는 농장, 숲, 어업 등의 분야에서 숙련된 작업을 수행하며, 자연과 밀접한 환경에서 자원을 관리하고 생산합니다.\",\n",
    "    mean_values=kwcs_1_agriculture_worker_mean\n",
    ")\n",
    "agriculture_worker_response"
   ]
  },
  {
   "cell_type": "code",
   "execution_count": 51,
   "metadata": {},
   "outputs": [
    {
     "data": {
      "text/plain": [
       "'{\"점수\": 65, \"이유\": \"평균 주간 근무 시간(50.8시간)보다 약간 적은 49.66시간을 일하고 있으며, 매일 및 매주 일정한 근무 시간을 가지고 있어 규칙적인 생활을 유지할 수 있습니다. 그러나 교대근무와 하루 10시간 초과 근무가 이루어지고 있어 체력적으로 부담이 될 수 있으며, 토요일에 근무하는 점도 만족도를 낮춥니다. 일요일은 쉬지만, 전체적으로 업무의 강도가 높아 여전히 만족도가 떨어진다고 판단했습니다.\"}'"
      ]
     },
     "execution_count": 51,
     "metadata": {},
     "output_type": "execute_result"
    }
   ],
   "source": [
    "skilled_worker_response = generate_response(\n",
    "    role=\"기능원 및 관련 기능 종사자\",\n",
    "    role_description=\"저는 특정 기능 또는 기술을 활용하여 생산성을 높이고, 품질 있는 결과물을 만드는데 기여합니다.\",\n",
    "    mean_values=kwcs_1_skilled_worker_mean\n",
    ")\n",
    "skilled_worker_response"
   ]
  },
  {
   "cell_type": "code",
   "execution_count": 52,
   "metadata": {},
   "outputs": [
    {
     "data": {
      "text/plain": [
       "'{\"점수\": 60, \"이유\": \"주간 근무 시간인 54.35시간은 평균보다 높은 수준이며, 하루 10시간 이상의 초과근무와 토요일 및 일요일의 근무로 인해 업무 부담이 큽니다. 하지만 매일 근무시간의 일관성과 주간 근무 일수의 일관성이 있어 기본적인 일정 관리에는 만족하고 있습니다. 교대근무를 하고 있다는 점도 근무 환경의 유연성이 부족하다는 느낌을 주어 만족도를 낮추는 요인입니다. 전반적으로 업무 강도가 높고, 개인적인 시간 부족을 느끼므로 만족도는 평균 이하입니다.\"}'"
      ]
     },
     "execution_count": 52,
     "metadata": {},
     "output_type": "execute_result"
    }
   ],
   "source": [
    "machine_operator_response = generate_response(\n",
    "    role=\"장치/기계 조작 및 조립 종사자\",\n",
    "    role_description=\"저는 다양한 기계와 장비를 조작하고 조립하는 업무를 담당하여, 정확하고 효율적인 생산 활동을 지원합니다.\",\n",
    "    mean_values=kwcs_1_machine_operator_mean\n",
    ")\n",
    "machine_operator_response"
   ]
  },
  {
   "cell_type": "code",
   "execution_count": 53,
   "metadata": {},
   "outputs": [
    {
     "data": {
      "text/plain": [
       "'{\"점수\": 75, \"이유\": \"주간 근무 시간이 평균보다 약간 적고, 매일 및 매주 근무 일수가 동일한 점은 긍정적입니다. 그러나 교대근무를 하고 있어 약간의 불안정성이 존재하며, 일요일에는 근무하지 않아 주말을 충분히 쉴 수 있다는 점이 만족스러운 편입니다. 초과근무를 하지 않는 것도 긍정적 요소입니다. 전반적으로 균형 잡힌 근로 환경을 가지고 있으나 교대근무로 인해 만족도가 약간 낮아졌습니다.\"}'"
      ]
     },
     "execution_count": 53,
     "metadata": {},
     "output_type": "execute_result"
    }
   ],
   "source": [
    "simple_laborer_response = generate_response(\n",
    "    role=\"단순노무 종사자\",\n",
    "    role_description=\"저는 단순하거나 반복적인 노동을 수행하며, 특정 작업을 빠르고 효과적으로 완수하는 데 중점을 둡니다.\",\n",
    "    mean_values=kwcs_1_simple_laborer_mean\n",
    ")\n",
    "simple_laborer_response"
   ]
  },
  {
   "cell_type": "code",
   "execution_count": 54,
   "metadata": {},
   "outputs": [
    {
     "name": "stdout",
     "output_type": "stream",
     "text": [
      "[65, 65, 80, 45, 65, 60, 65, 60, 75]\n"
     ]
    }
   ],
   "source": [
    "# 점수만 리스트로 정리하는 함수 정의\n",
    "def extract_scores(responses):\n",
    "    scores = []\n",
    "    for response in responses:\n",
    "        # JSON 형식의 응답을 딕셔너리로 변환하여 점수 추출\n",
    "        response_dict = json.loads(response)\n",
    "        scores.append(response_dict[\"점수\"])\n",
    "    return scores\n",
    "\n",
    "# 9개 직업군의 인터뷰 응답을 저장한 리스트 예시 (responses)\n",
    "# 각 인터뷰 응답에서 점수만 추출하여 리스트로 정리\n",
    "occupation_scores = extract_scores([manager_response, professional_response, office_worker_response, service_worker_response, sales_worker_response, agriculture_worker_response, skilled_worker_response, machine_operator_response, simple_laborer_response])\n",
    "\n",
    "# 점수 리스트 출력\n",
    "print(occupation_scores)\n"
   ]
  },
  {
   "cell_type": "code",
   "execution_count": 55,
   "metadata": {},
   "outputs": [
    {
     "data": {
      "text/plain": [
       "[1.906, 2.088, 2.055, 2.418, 2.274, 2.603, 2.485, 2.581, 2.377]"
      ]
     },
     "execution_count": 55,
     "metadata": {},
     "output_type": "execute_result"
    }
   ],
   "source": [
    "# 각 직업군에 대한 평균값 데이터에서 satisfaction 값을 리스트로 추출하는 코드\n",
    "occupation_means = [\n",
    "    kwcs_1_manager_mean,\n",
    "    kwcs_1_professional_mean,\n",
    "    kwcs_1_office_worker_mean,\n",
    "    kwcs_1_service_worker_mean,\n",
    "    kwcs_1_sales_worker_mean,\n",
    "    kwcs_1_agriculture_worker_mean,\n",
    "    kwcs_1_skilled_worker_mean,\n",
    "    kwcs_1_machine_operator_mean,\n",
    "    kwcs_1_simple_laborer_mean\n",
    "]\n",
    "\n",
    "# satisfaction 값을 리스트로 추출\n",
    "satisfaction_values = [round(occupation['satisfaction'],3) for occupation in occupation_means]\n",
    "\n",
    "satisfaction_values\n"
   ]
  },
  {
   "cell_type": "code",
   "execution_count": 56,
   "metadata": {},
   "outputs": [],
   "source": [
    "def plot_occupational_satisfaction(statistical_values, llm_agent_values):\n",
    "    occupations = [\n",
    "        \"Manager\", \"Professional\", \"Office worker\", \"Service worker\",\n",
    "        \"Sales worker\", \"Agriculture worker\", \"Skilled worker\",\n",
    "        \"Machine operator\", \"Simple Laborer\"\n",
    "    ]\n",
    "\n",
    "    # 통계적 값을 1-100으로 스케일링\n",
    "    statistical_scaled = [100 - ((val - 1) / (4 - 1) * 100) for val in statistical_values]\n",
    "\n",
    "    # Plotting\n",
    "    plt.figure(figsize=(12, 6))\n",
    "    sns.lineplot(x=occupations, y=statistical_scaled, label=\"Statistical Values (Scaled)\", marker=\"o\")\n",
    "    sns.lineplot(x=occupations, y=llm_agent_values, label=\"LLM Agent Prediction\", marker=\"o\")\n",
    "\n",
    "    # Customizing the plot\n",
    "    plt.title(\"Comparison of Statistical Values and LLM Agent Predictions\")\n",
    "    plt.ylabel(\"Satisfaction Score (1-100 scale)\")\n",
    "    plt.xlabel(\"Occupations\")\n",
    "    plt.xticks(rotation=45)\n",
    "    plt.legend()\n",
    "    plt.tight_layout()\n",
    "\n",
    "    # Show the plot\n",
    "    plt.show()"
   ]
  },
  {
   "cell_type": "code",
   "execution_count": 57,
   "metadata": {},
   "outputs": [
    {
     "data": {
      "image/png": "[encoded data removed]",
      "text/plain": [
       "<Figure size 1200x600 with 1 Axes>"
      ]
     },
     "metadata": {},
     "output_type": "display_data"
    }
   ],
   "source": [
    "statistical_values = satisfaction_values\n",
    "llm_agent_values = occupation_scores\n",
    "\n",
    "# Calling the function\n",
    "plot_occupational_satisfaction(statistical_values, llm_agent_values)"
   ]
  }
 ],
 "metadata": {
  "kernelspec": {
   "display_name": "Python 3",
   "language": "python",
   "name": "python3"
  },
  "language_info": {
   "codemirror_mode": {
    "name": "ipython",
    "version": 3
   },
   "file_extension": ".py",
   "mimetype": "text/x-python",
   "name": "python",
   "nbconvert_exporter": "python",
   "pygments_lexer": "ipython3",
   "version": "3.12.1"
  }
 },
 "nbformat": 4,
 "nbformat_minor": 2
}
